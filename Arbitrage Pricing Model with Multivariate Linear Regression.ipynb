{
 "cells": [
  {
   "cell_type": "code",
   "execution_count": 3,
   "metadata": {},
   "outputs": [],
   "source": [
    "#import numpy and statsmodels\n",
    "import numpy as np\n",
    "import statsmodels.api as sm"
   ]
  },
  {
   "cell_type": "code",
   "execution_count": 4,
   "metadata": {},
   "outputs": [],
   "source": [
    "#genrate random data points\n",
    "num_periods = 9\n",
    "all_values = np.array( [np.random.random( 8 ) for i in range( num_periods )] )"
   ]
  },
  {
   "cell_type": "code",
   "execution_count": 5,
   "metadata": {},
   "outputs": [],
   "source": [
    "#clean datapints and define variables\n",
    "y_values = all_values[ :, 0 ]\n",
    "x_values = all_values[ :, 1: ]"
   ]
  },
  {
   "cell_type": "code",
   "execution_count": 6,
   "metadata": {},
   "outputs": [],
   "source": [
    "x_values = sm.add_constant( x_values )\n",
    "results = sm.OLS( y_values, x_values).fit()"
   ]
  },
  {
   "cell_type": "code",
   "execution_count": null,
   "metadata": {
    "scrolled": true
   },
   "outputs": [],
   "source": []
  },
  {
   "cell_type": "code",
   "execution_count": 7,
   "metadata": {},
   "outputs": [
    {
     "name": "stdout",
     "output_type": "stream",
     "text": [
      "                            OLS Regression Results                            \n",
      "==============================================================================\n",
      "Dep. Variable:                      y   R-squared:                       0.988\n",
      "Model:                            OLS   Adj. R-squared:                  0.905\n",
      "Method:                 Least Squares   F-statistic:                     11.84\n",
      "Date:                Wed, 15 May 2019   Prob (F-statistic):              0.220\n",
      "Time:                        15:19:50   Log-Likelihood:                 24.300\n",
      "No. Observations:                   9   AIC:                            -32.60\n",
      "Df Residuals:                       1   BIC:                            -31.02\n",
      "Df Model:                           7                                         \n",
      "Covariance Type:            nonrobust                                         \n",
      "==============================================================================\n",
      "                 coef    std err          t      P>|t|      [0.025      0.975]\n",
      "------------------------------------------------------------------------------\n",
      "const         -0.6902      0.172     -4.002      0.156      -2.882       1.501\n",
      "x1             0.5665      0.131      4.339      0.144      -1.092       2.225\n",
      "x2            -0.8055      0.277     -2.910      0.211      -4.322       2.711\n",
      "x3             0.4362      0.159      2.736      0.223      -1.589       2.462\n",
      "x4             0.1790      0.163      1.100      0.470      -1.888       2.245\n",
      "x5             0.7160      0.142      5.035      0.125      -1.091       2.523\n",
      "x6             0.1353      0.130      1.042      0.487      -1.514       1.785\n",
      "x7             0.9363      0.148      6.308      0.100      -0.950       2.822\n",
      "==============================================================================\n",
      "Omnibus:                        5.629   Durbin-Watson:                   2.107\n",
      "Prob(Omnibus):                  0.060   Jarque-Bera (JB):                1.770\n",
      "Skew:                          -1.021   Prob(JB):                        0.413\n",
      "Kurtosis:                       3.745   Cond. No.                         39.4\n",
      "==============================================================================\n",
      "\n",
      "Warnings:\n",
      "[1] Standard Errors assume that the covariance matrix of the errors is correctly specified.\n"
     ]
    },
    {
     "name": "stderr",
     "output_type": "stream",
     "text": [
      "/anaconda3/lib/python3.7/site-packages/scipy/stats/stats.py:1416: UserWarning: kurtosistest only valid for n>=20 ... continuing anyway, n=9\n",
      "  \"anyway, n=%i\" % int(n))\n"
     ]
    }
   ],
   "source": [
    "print( results.summary() )"
   ]
  },
  {
   "cell_type": "code",
   "execution_count": 8,
   "metadata": {},
   "outputs": [
    {
     "name": "stdout",
     "output_type": "stream",
     "text": [
      "[-0.69017073  0.56649576 -0.8054868   0.43615265  0.17895292  0.7160305\n",
      "  0.13528478  0.93633151]\n"
     ]
    }
   ],
   "source": [
    "print ( results.params )"
   ]
  },
  {
   "cell_type": "code",
   "execution_count": null,
   "metadata": {},
   "outputs": [],
   "source": []
  }
 ],
 "metadata": {
  "kernelspec": {
   "display_name": "Python 3",
   "language": "python",
   "name": "python3"
  },
  "language_info": {
   "codemirror_mode": {
    "name": "ipython",
    "version": 3
   },
   "file_extension": ".py",
   "mimetype": "text/x-python",
   "name": "python",
   "nbconvert_exporter": "python",
   "pygments_lexer": "ipython3",
   "version": "3.7.3"
  }
 },
 "nbformat": 4,
 "nbformat_minor": 2
}
