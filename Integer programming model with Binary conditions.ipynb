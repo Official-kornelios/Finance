{
 "cells": [
  {
   "cell_type": "code",
   "execution_count": 3,
   "metadata": {},
   "outputs": [],
   "source": [
    "#import PuLP package\n",
    "import pulp"
   ]
  },
  {
   "cell_type": "code",
   "execution_count": 4,
   "metadata": {},
   "outputs": [],
   "source": [
    "#define variables\n",
    "dealers = [\"X\", \"Y\", \"Z\"]\n",
    "\n",
    "variable_costs = {\n",
    "    \"X\": 500,\n",
    "    \"Y\": 350,\n",
    "    \"Z\": 450\n",
    "}\n",
    "\n",
    "fixed_costs = {\n",
    "    \"X\": 4000,\n",
    "    \"Y\": 2000,\n",
    "    \"Z\": 6000\n",
    "}"
   ]
  },
  {
   "cell_type": "code",
   "execution_count": 5,
   "metadata": {},
   "outputs": [],
   "source": [
    "#define PuLP variables to solve\n",
    "quantities = pulp.LpVariable.dicts(\"quantity\", dealers, lowBound = 0, cat = pulp.LpInteger)\n",
    "is_orders = pulp.LpVariable.dicts(\"orders\", dealers, cat = pulp.LpBinary)"
   ]
  },
  {
   "cell_type": "code",
   "execution_count": 6,
   "metadata": {},
   "outputs": [],
   "source": [
    "#initialize the model with constraints\n",
    "model = pulp.LpProblem( \"A Min. Problem\", pulp.LpMinimize )\n",
    "model += sum( [ variable_costs[i] * quantities[i] + fixed_costs[i] * is_orders[i] for i in dealers]), \"Minimize Portfolio cost\"\n",
    "model += sum( [ quantities[i] for i in dealers]) == 150, \"Total Contracts required\"\n",
    "model += is_orders[\"X\"] * 30 <= quantities[\"X\"] <= is_orders[\"X\"] * 100, \"Boundary of total volume of X\"\n",
    "model += is_orders[\"Y\"] * 30 <= quantities[\"Y\"] <= is_orders[\"Y\"] * 60, \"Boundary of total volume of Y\"\n",
    "model += is_orders[\"Z\"] * 30 <= quantities[\"Z\"] <= is_orders[\"Z\"] * 70, \"Boundary of total volume of Z\""
   ]
  },
  {
   "cell_type": "code",
   "execution_count": 7,
   "metadata": {},
   "outputs": [
    {
     "data": {
      "text/plain": [
       "1"
      ]
     },
     "execution_count": 7,
     "metadata": {},
     "output_type": "execute_result"
    }
   ],
   "source": [
    "model.solve()"
   ]
  },
  {
   "cell_type": "code",
   "execution_count": 8,
   "metadata": {},
   "outputs": [
    {
     "name": "stdout",
     "output_type": "stream",
     "text": [
      "Minimisation Problem:\n",
      "orders_X = 1.0\n",
      "orders_Y = 1.0\n",
      "orders_Z = 0.0\n",
      "quantity_X = 90.0\n",
      "quantity_Y = 60.0\n",
      "quantity_Z = 0.0\n"
     ]
    }
   ],
   "source": [
    "print(\"Minimisation Problem:\")\n",
    "for variable in model.variables():\n",
    "    print (variable, \"=\", variable.varValue)"
   ]
  },
  {
   "cell_type": "code",
   "execution_count": 9,
   "metadata": {},
   "outputs": [
    {
     "name": "stdout",
     "output_type": "stream",
     "text": [
      "Total cost: 72000.0\n"
     ]
    }
   ],
   "source": [
    "print ( \"Total cost: %s\" % pulp.value( model.objective ) )"
   ]
  },
  {
   "cell_type": "code",
   "execution_count": null,
   "metadata": {},
   "outputs": [],
   "source": []
  }
 ],
 "metadata": {
  "kernelspec": {
   "display_name": "Python 3",
   "language": "python",
   "name": "python3"
  },
  "language_info": {
   "codemirror_mode": {
    "name": "ipython",
    "version": 3
   },
   "file_extension": ".py",
   "mimetype": "text/x-python",
   "name": "python",
   "nbconvert_exporter": "python",
   "pygments_lexer": "ipython3",
   "version": "3.7.3"
  }
 },
 "nbformat": 4,
 "nbformat_minor": 2
}
