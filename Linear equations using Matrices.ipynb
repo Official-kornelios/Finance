{
 "cells": [
  {
   "cell_type": "code",
   "execution_count": 1,
   "metadata": {},
   "outputs": [],
   "source": [
    "#import numpy\n",
    "import numpy as np"
   ]
  },
  {
   "cell_type": "code",
   "execution_count": 2,
   "metadata": {},
   "outputs": [],
   "source": [
    "#define variables\n",
    "A = np.array( [[2, 1, 1],\n",
    "               [1, 3, 2],\n",
    "               [1, 0, 0]] )\n",
    "B = np.array( [4, 5, 6] )"
   ]
  },
  {
   "cell_type": "code",
   "execution_count": 3,
   "metadata": {},
   "outputs": [
    {
     "name": "stdout",
     "output_type": "stream",
     "text": [
      "[  6.  15. -23.]\n"
     ]
    }
   ],
   "source": [
    "print( np.linalg.solve( A, B ) )"
   ]
  },
  {
   "cell_type": "code",
   "execution_count": 4,
   "metadata": {},
   "outputs": [],
   "source": [
    "#Lower upper decomposition\n",
    "#import linear algebra package from scipy\n",
    "import scipy.linalg as linalg\n",
    "import numpy as np"
   ]
  },
  {
   "cell_type": "code",
   "execution_count": 5,
   "metadata": {},
   "outputs": [],
   "source": [
    "A1 = np.array( [[2., 1., 1.],\n",
    "               [1., 3., 2.],\n",
    "               [1., 0., 0.]] )\n",
    "B1 = np.array( [4., 5., 6.] )"
   ]
  },
  {
   "cell_type": "code",
   "execution_count": 6,
   "metadata": {},
   "outputs": [],
   "source": [
    "LU = linalg.lu_factor( A1 )\n",
    "x = linalg.lu_solve( LU, B1 )"
   ]
  },
  {
   "cell_type": "code",
   "execution_count": 7,
   "metadata": {},
   "outputs": [
    {
     "name": "stdout",
     "output_type": "stream",
     "text": [
      "[  6.  15. -23.]\n"
     ]
    }
   ],
   "source": [
    "print( x )"
   ]
  },
  {
   "cell_type": "code",
   "execution_count": 8,
   "metadata": {},
   "outputs": [],
   "source": [
    "#cholesky decomposition with numpy\n",
    "import numpy as np"
   ]
  },
  {
   "cell_type": "code",
   "execution_count": 10,
   "metadata": {},
   "outputs": [],
   "source": [
    "P = np.array( [[10., -1., 2., 0.],\n",
    "              [-1., 11., -1., 3.],\n",
    "              [2., -1., 10., -1.],\n",
    "              [0.0, 3., -1., 8.]]\n",
    "            )\n",
    "Q = np.array([6., 25., -11., 15.])"
   ]
  },
  {
   "cell_type": "code",
   "execution_count": 11,
   "metadata": {},
   "outputs": [],
   "source": [
    "L = np.linalg.cholesky(P)"
   ]
  },
  {
   "cell_type": "code",
   "execution_count": 12,
   "metadata": {},
   "outputs": [
    {
     "name": "stdout",
     "output_type": "stream",
     "text": [
      "[[ 3.16227766  0.          0.          0.        ]\n",
      " [-0.31622777  3.3015148   0.          0.        ]\n",
      " [ 0.63245553 -0.24231301  3.08889696  0.        ]\n",
      " [ 0.          0.9086738  -0.25245792  2.6665665 ]]\n"
     ]
    }
   ],
   "source": [
    "print(L)"
   ]
  },
  {
   "cell_type": "code",
   "execution_count": 13,
   "metadata": {},
   "outputs": [
    {
     "name": "stdout",
     "output_type": "stream",
     "text": [
      "[[10. -1.  2.  0.]\n",
      " [-1. 11. -1.  3.]\n",
      " [ 2. -1. 10. -1.]\n",
      " [ 0.  3. -1.  8.]]\n"
     ]
    }
   ],
   "source": [
    "print(np.dot( L, L.T.conj() ))"
   ]
  },
  {
   "cell_type": "code",
   "execution_count": null,
   "metadata": {},
   "outputs": [],
   "source": []
  }
 ],
 "metadata": {
  "kernelspec": {
   "display_name": "Python 3",
   "language": "python",
   "name": "python3"
  },
  "language_info": {
   "codemirror_mode": {
    "name": "ipython",
    "version": 3
   },
   "file_extension": ".py",
   "mimetype": "text/x-python",
   "name": "python",
   "nbconvert_exporter": "python",
   "pygments_lexer": "ipython3",
   "version": "3.7.3"
  }
 },
 "nbformat": 4,
 "nbformat_minor": 2
}
